{
 "cells": [
  {
   "cell_type": "code",
   "execution_count": 1,
   "id": "091566d3",
   "metadata": {},
   "outputs": [
    {
     "data": {
      "text/plain": [
       "'C:\\\\Users\\\\may7e\\\\Documents\\\\GitHub\\\\Kaggle\\\\Kaggle\\\\NLP'"
      ]
     },
     "execution_count": 1,
     "metadata": {},
     "output_type": "execute_result"
    }
   ],
   "source": [
    "import os\n",
    "import pandas as pd\n",
    "os.getcwd()"
   ]
  },
  {
   "cell_type": "code",
   "execution_count": 2,
   "id": "0f46be7b",
   "metadata": {},
   "outputs": [],
   "source": [
    "#import the training and testing dataset\n",
    "train = pd.read_csv('train.csv')"
   ]
  },
  {
   "cell_type": "code",
   "execution_count": 3,
   "id": "42c59e8e",
   "metadata": {},
   "outputs": [],
   "source": [
    "test = pd.read_csv('test.csv')"
   ]
  },
  {
   "cell_type": "code",
   "execution_count": 4,
   "id": "d2b0234a",
   "metadata": {},
   "outputs": [
    {
     "data": {
      "text/html": [
       "<div>\n",
       "<style scoped>\n",
       "    .dataframe tbody tr th:only-of-type {\n",
       "        vertical-align: middle;\n",
       "    }\n",
       "\n",
       "    .dataframe tbody tr th {\n",
       "        vertical-align: top;\n",
       "    }\n",
       "\n",
       "    .dataframe thead th {\n",
       "        text-align: right;\n",
       "    }\n",
       "</style>\n",
       "<table border=\"1\" class=\"dataframe\">\n",
       "  <thead>\n",
       "    <tr style=\"text-align: right;\">\n",
       "      <th></th>\n",
       "      <th>id</th>\n",
       "      <th>keyword</th>\n",
       "      <th>location</th>\n",
       "      <th>text</th>\n",
       "      <th>target</th>\n",
       "    </tr>\n",
       "  </thead>\n",
       "  <tbody>\n",
       "    <tr>\n",
       "      <th>0</th>\n",
       "      <td>1</td>\n",
       "      <td>NaN</td>\n",
       "      <td>NaN</td>\n",
       "      <td>Our Deeds are the Reason of this #earthquake M...</td>\n",
       "      <td>1</td>\n",
       "    </tr>\n",
       "    <tr>\n",
       "      <th>1</th>\n",
       "      <td>4</td>\n",
       "      <td>NaN</td>\n",
       "      <td>NaN</td>\n",
       "      <td>Forest fire near La Ronge Sask. Canada</td>\n",
       "      <td>1</td>\n",
       "    </tr>\n",
       "    <tr>\n",
       "      <th>2</th>\n",
       "      <td>5</td>\n",
       "      <td>NaN</td>\n",
       "      <td>NaN</td>\n",
       "      <td>All residents asked to 'shelter in place' are ...</td>\n",
       "      <td>1</td>\n",
       "    </tr>\n",
       "    <tr>\n",
       "      <th>3</th>\n",
       "      <td>6</td>\n",
       "      <td>NaN</td>\n",
       "      <td>NaN</td>\n",
       "      <td>13,000 people receive #wildfires evacuation or...</td>\n",
       "      <td>1</td>\n",
       "    </tr>\n",
       "    <tr>\n",
       "      <th>4</th>\n",
       "      <td>7</td>\n",
       "      <td>NaN</td>\n",
       "      <td>NaN</td>\n",
       "      <td>Just got sent this photo from Ruby #Alaska as ...</td>\n",
       "      <td>1</td>\n",
       "    </tr>\n",
       "    <tr>\n",
       "      <th>...</th>\n",
       "      <td>...</td>\n",
       "      <td>...</td>\n",
       "      <td>...</td>\n",
       "      <td>...</td>\n",
       "      <td>...</td>\n",
       "    </tr>\n",
       "    <tr>\n",
       "      <th>7608</th>\n",
       "      <td>10869</td>\n",
       "      <td>NaN</td>\n",
       "      <td>NaN</td>\n",
       "      <td>Two giant cranes holding a bridge collapse int...</td>\n",
       "      <td>1</td>\n",
       "    </tr>\n",
       "    <tr>\n",
       "      <th>7609</th>\n",
       "      <td>10870</td>\n",
       "      <td>NaN</td>\n",
       "      <td>NaN</td>\n",
       "      <td>@aria_ahrary @TheTawniest The out of control w...</td>\n",
       "      <td>1</td>\n",
       "    </tr>\n",
       "    <tr>\n",
       "      <th>7610</th>\n",
       "      <td>10871</td>\n",
       "      <td>NaN</td>\n",
       "      <td>NaN</td>\n",
       "      <td>M1.94 [01:04 UTC]?5km S of Volcano Hawaii. htt...</td>\n",
       "      <td>1</td>\n",
       "    </tr>\n",
       "    <tr>\n",
       "      <th>7611</th>\n",
       "      <td>10872</td>\n",
       "      <td>NaN</td>\n",
       "      <td>NaN</td>\n",
       "      <td>Police investigating after an e-bike collided ...</td>\n",
       "      <td>1</td>\n",
       "    </tr>\n",
       "    <tr>\n",
       "      <th>7612</th>\n",
       "      <td>10873</td>\n",
       "      <td>NaN</td>\n",
       "      <td>NaN</td>\n",
       "      <td>The Latest: More Homes Razed by Northern Calif...</td>\n",
       "      <td>1</td>\n",
       "    </tr>\n",
       "  </tbody>\n",
       "</table>\n",
       "<p>7613 rows × 5 columns</p>\n",
       "</div>"
      ],
      "text/plain": [
       "         id keyword location  \\\n",
       "0         1     NaN      NaN   \n",
       "1         4     NaN      NaN   \n",
       "2         5     NaN      NaN   \n",
       "3         6     NaN      NaN   \n",
       "4         7     NaN      NaN   \n",
       "...     ...     ...      ...   \n",
       "7608  10869     NaN      NaN   \n",
       "7609  10870     NaN      NaN   \n",
       "7610  10871     NaN      NaN   \n",
       "7611  10872     NaN      NaN   \n",
       "7612  10873     NaN      NaN   \n",
       "\n",
       "                                                   text  target  \n",
       "0     Our Deeds are the Reason of this #earthquake M...       1  \n",
       "1                Forest fire near La Ronge Sask. Canada       1  \n",
       "2     All residents asked to 'shelter in place' are ...       1  \n",
       "3     13,000 people receive #wildfires evacuation or...       1  \n",
       "4     Just got sent this photo from Ruby #Alaska as ...       1  \n",
       "...                                                 ...     ...  \n",
       "7608  Two giant cranes holding a bridge collapse int...       1  \n",
       "7609  @aria_ahrary @TheTawniest The out of control w...       1  \n",
       "7610  M1.94 [01:04 UTC]?5km S of Volcano Hawaii. htt...       1  \n",
       "7611  Police investigating after an e-bike collided ...       1  \n",
       "7612  The Latest: More Homes Razed by Northern Calif...       1  \n",
       "\n",
       "[7613 rows x 5 columns]"
      ]
     },
     "execution_count": 4,
     "metadata": {},
     "output_type": "execute_result"
    }
   ],
   "source": [
    "#take a look at the training data\n",
    "train"
   ]
  },
  {
   "cell_type": "code",
   "execution_count": 5,
   "id": "d4cdabc9",
   "metadata": {},
   "outputs": [],
   "source": [
    "target = train['target']"
   ]
  },
  {
   "cell_type": "code",
   "execution_count": 6,
   "id": "8559f892",
   "metadata": {},
   "outputs": [
    {
     "data": {
      "text/plain": [
       "<Axes: xlabel='target', ylabel='Count'>"
      ]
     },
     "execution_count": 6,
     "metadata": {},
     "output_type": "execute_result"
    },
    {
     "data": {
      "image/png": "[encoded data removed]",
      "text/plain": [
       "<Figure size 640x480 with 1 Axes>"
      ]
     },
     "metadata": {},
     "output_type": "display_data"
    }
   ],
   "source": [
    "import seaborn as sns\n",
    "\n",
    "#look at the target data distribution\n",
    "\n",
    "sns.histplot(target)"
   ]
  },
  {
   "cell_type": "code",
   "execution_count": 7,
   "id": "83763b01",
   "metadata": {},
   "outputs": [
    {
     "data": {
      "text/plain": [
       "0    57.034021\n",
       "1    42.965979\n",
       "Name: target, dtype: float64"
      ]
     },
     "execution_count": 7,
     "metadata": {},
     "output_type": "execute_result"
    }
   ],
   "source": [
    "#get the percent of each class\n",
    "target.value_counts(normalize = True)*100"
   ]
  },
  {
   "cell_type": "code",
   "execution_count": 8,
   "id": "65e5b90e",
   "metadata": {},
   "outputs": [
    {
     "name": "stderr",
     "output_type": "stream",
     "text": [
      "[nltk_data] Downloading package stopwords to\n",
      "[nltk_data]     C:\\Users\\may7e\\AppData\\Roaming\\nltk_data...\n",
      "[nltk_data]   Package stopwords is already up-to-date!\n",
      "[nltk_data] Downloading package punkt to\n",
      "[nltk_data]     C:\\Users\\may7e\\AppData\\Roaming\\nltk_data...\n",
      "[nltk_data]   Package punkt is already up-to-date!\n"
     ]
    }
   ],
   "source": [
    "#clean the data of NAN values. \n",
    "#Replace the Nan with a default string ('Unknown')\n",
    "import nltk\n",
    "from nltk.corpus import stopwords\n",
    "from nltk.tokenize import word_tokenize\n",
    "from nltk.stem import PorterStemmer\n",
    "\n",
    "\n",
    "# Download NLTK resources\n",
    "nltk.download('stopwords')\n",
    "nltk.download('punkt')\n",
    "\n",
    "# Tokenization function\n",
    "def tokenize_text(text):\n",
    "    '''\n",
    "    tokenize the text\n",
    "    '''\n",
    "    tokens = word_tokenize(text)\n",
    "    return tokens\n",
    "\n",
    "# Normalization function\n",
    "def normalize_tokens(tokens):\n",
    "    '''\n",
    "    Normalize the text by lowering the characters\n",
    "    '''\n",
    "    normalized_tokens = [token.lower() for token in tokens]\n",
    "    return normalized_tokens\n",
    "\n",
    "# Stopword removal function\n",
    "def remove_stopwords(tokens):\n",
    "    '''\n",
    "    Flip through the text and remove enlgish language stopwords\n",
    "    '''\n",
    "    stop_words = set(stopwords.words('english'))\n",
    "    filtered_tokens = [token for token in tokens if token not in stop_words]\n",
    "    return filtered_tokens\n",
    "\n",
    "# Stemming function\n",
    "def stem_tokens(tokens):\n",
    "    porter = PorterStemmer()\n",
    "    stemmed_tokens = [porter.stem(token) for token in tokens]\n",
    "    return stemmed_tokens\n",
    "\n",
    "\n",
    "#put it all in a function and apply to the data.\n",
    "def PreProcess(data):\n",
    "    '''\n",
    "    Perform a basic cleaning and processing of the data and lexical analysis\n",
    "    \n",
    "    Parameters:\n",
    "    ----------\n",
    "    Data: pd.DataFrame\n",
    "        DataFrame of the text strings without the target data. \n",
    "   \n",
    "    Returns:\n",
    "    --------\n",
    "    data: pd.DataFrame\n",
    "        Df of the columns having gone through several preprocessing steps.\n",
    "    '''\n",
    "    data.fillna('Unknown', inplace = True) #fill nans\n",
    "    \n",
    "    #apply the lexical Analysis\n",
    "    for col in data.columns:\n",
    "        # Tokenization\n",
    "        data[f'{col}_tokens'] = data[col].apply(tokenize_text)\n",
    "\n",
    "        # Normalization\n",
    "        data[f'{col}_normalized_tokens'] = data[f'{col}_tokens'].apply(normalize_tokens)\n",
    "\n",
    "        # Stopword removal\n",
    "        data[f'{col}_filtered_tokens'] = data[f'{col}_normalized_tokens'].apply(remove_stopwords)\n",
    "\n",
    "        # Stemming\n",
    "        data[f'{col}_stemmed_tokens'] = data[f'{col}_filtered_tokens'].apply(stem_tokens)\n",
    "    \n",
    "    #select only the stemmed columns as that was the last step in the processing of the data.\n",
    "    data = data.filter(regex = 'stemmed', axis = 1)\n",
    "    return data\n",
    "    \n"
   ]
  },
  {
   "cell_type": "code",
   "execution_count": 9,
   "id": "4a8d083a",
   "metadata": {},
   "outputs": [
    {
     "data": {
      "text/plain": [
       "0       1\n",
       "1       1\n",
       "2       1\n",
       "3       1\n",
       "4       1\n",
       "       ..\n",
       "7608    1\n",
       "7609    1\n",
       "7610    1\n",
       "7611    1\n",
       "7612    1\n",
       "Name: target, Length: 7613, dtype: int64"
      ]
     },
     "execution_count": 9,
     "metadata": {},
     "output_type": "execute_result"
    }
   ],
   "source": [
    "target"
   ]
  },
  {
   "cell_type": "code",
   "execution_count": 10,
   "id": "b698911e",
   "metadata": {},
   "outputs": [],
   "source": [
    "#clean the train data for preprocessing\n",
    "\n",
    "train = train.drop(columns = ['id', 'target'])"
   ]
  },
  {
   "cell_type": "code",
   "execution_count": 11,
   "id": "afa29863",
   "metadata": {},
   "outputs": [
    {
     "data": {
      "text/html": [
       "<div>\n",
       "<style scoped>\n",
       "    .dataframe tbody tr th:only-of-type {\n",
       "        vertical-align: middle;\n",
       "    }\n",
       "\n",
       "    .dataframe tbody tr th {\n",
       "        vertical-align: top;\n",
       "    }\n",
       "\n",
       "    .dataframe thead th {\n",
       "        text-align: right;\n",
       "    }\n",
       "</style>\n",
       "<table border=\"1\" class=\"dataframe\">\n",
       "  <thead>\n",
       "    <tr style=\"text-align: right;\">\n",
       "      <th></th>\n",
       "      <th>keyword</th>\n",
       "      <th>location</th>\n",
       "      <th>text</th>\n",
       "    </tr>\n",
       "  </thead>\n",
       "  <tbody>\n",
       "    <tr>\n",
       "      <th>0</th>\n",
       "      <td>NaN</td>\n",
       "      <td>NaN</td>\n",
       "      <td>Our Deeds are the Reason of this #earthquake M...</td>\n",
       "    </tr>\n",
       "    <tr>\n",
       "      <th>1</th>\n",
       "      <td>NaN</td>\n",
       "      <td>NaN</td>\n",
       "      <td>Forest fire near La Ronge Sask. Canada</td>\n",
       "    </tr>\n",
       "    <tr>\n",
       "      <th>2</th>\n",
       "      <td>NaN</td>\n",
       "      <td>NaN</td>\n",
       "      <td>All residents asked to 'shelter in place' are ...</td>\n",
       "    </tr>\n",
       "    <tr>\n",
       "      <th>3</th>\n",
       "      <td>NaN</td>\n",
       "      <td>NaN</td>\n",
       "      <td>13,000 people receive #wildfires evacuation or...</td>\n",
       "    </tr>\n",
       "    <tr>\n",
       "      <th>4</th>\n",
       "      <td>NaN</td>\n",
       "      <td>NaN</td>\n",
       "      <td>Just got sent this photo from Ruby #Alaska as ...</td>\n",
       "    </tr>\n",
       "    <tr>\n",
       "      <th>...</th>\n",
       "      <td>...</td>\n",
       "      <td>...</td>\n",
       "      <td>...</td>\n",
       "    </tr>\n",
       "    <tr>\n",
       "      <th>7608</th>\n",
       "      <td>NaN</td>\n",
       "      <td>NaN</td>\n",
       "      <td>Two giant cranes holding a bridge collapse int...</td>\n",
       "    </tr>\n",
       "    <tr>\n",
       "      <th>7609</th>\n",
       "      <td>NaN</td>\n",
       "      <td>NaN</td>\n",
       "      <td>@aria_ahrary @TheTawniest The out of control w...</td>\n",
       "    </tr>\n",
       "    <tr>\n",
       "      <th>7610</th>\n",
       "      <td>NaN</td>\n",
       "      <td>NaN</td>\n",
       "      <td>M1.94 [01:04 UTC]?5km S of Volcano Hawaii. htt...</td>\n",
       "    </tr>\n",
       "    <tr>\n",
       "      <th>7611</th>\n",
       "      <td>NaN</td>\n",
       "      <td>NaN</td>\n",
       "      <td>Police investigating after an e-bike collided ...</td>\n",
       "    </tr>\n",
       "    <tr>\n",
       "      <th>7612</th>\n",
       "      <td>NaN</td>\n",
       "      <td>NaN</td>\n",
       "      <td>The Latest: More Homes Razed by Northern Calif...</td>\n",
       "    </tr>\n",
       "  </tbody>\n",
       "</table>\n",
       "<p>7613 rows × 3 columns</p>\n",
       "</div>"
      ],
      "text/plain": [
       "     keyword location                                               text\n",
       "0        NaN      NaN  Our Deeds are the Reason of this #earthquake M...\n",
       "1        NaN      NaN             Forest fire near La Ronge Sask. Canada\n",
       "2        NaN      NaN  All residents asked to 'shelter in place' are ...\n",
       "3        NaN      NaN  13,000 people receive #wildfires evacuation or...\n",
       "4        NaN      NaN  Just got sent this photo from Ruby #Alaska as ...\n",
       "...      ...      ...                                                ...\n",
       "7608     NaN      NaN  Two giant cranes holding a bridge collapse int...\n",
       "7609     NaN      NaN  @aria_ahrary @TheTawniest The out of control w...\n",
       "7610     NaN      NaN  M1.94 [01:04 UTC]?5km S of Volcano Hawaii. htt...\n",
       "7611     NaN      NaN  Police investigating after an e-bike collided ...\n",
       "7612     NaN      NaN  The Latest: More Homes Razed by Northern Calif...\n",
       "\n",
       "[7613 rows x 3 columns]"
      ]
     },
     "execution_count": 11,
     "metadata": {},
     "output_type": "execute_result"
    }
   ],
   "source": [
    "train"
   ]
  },
  {
   "cell_type": "code",
   "execution_count": 12,
   "id": "cd61e81e",
   "metadata": {},
   "outputs": [
    {
     "data": {
      "text/plain": [
       "keyword       61\n",
       "location    2533\n",
       "text           0\n",
       "dtype: int64"
      ]
     },
     "execution_count": 12,
     "metadata": {},
     "output_type": "execute_result"
    }
   ],
   "source": [
    "train.isna().sum()"
   ]
  },
  {
   "cell_type": "code",
   "execution_count": 13,
   "id": "4cdafd87",
   "metadata": {},
   "outputs": [],
   "source": [
    "#process the data using the function defined above. \n",
    "proccessed = PreProcess(train)"
   ]
  },
  {
   "cell_type": "code",
   "execution_count": 14,
   "id": "0f07cea1",
   "metadata": {},
   "outputs": [
    {
     "data": {
      "text/html": [
       "<div>\n",
       "<style scoped>\n",
       "    .dataframe tbody tr th:only-of-type {\n",
       "        vertical-align: middle;\n",
       "    }\n",
       "\n",
       "    .dataframe tbody tr th {\n",
       "        vertical-align: top;\n",
       "    }\n",
       "\n",
       "    .dataframe thead th {\n",
       "        text-align: right;\n",
       "    }\n",
       "</style>\n",
       "<table border=\"1\" class=\"dataframe\">\n",
       "  <thead>\n",
       "    <tr style=\"text-align: right;\">\n",
       "      <th></th>\n",
       "      <th>keyword_stemmed_tokens</th>\n",
       "      <th>location_stemmed_tokens</th>\n",
       "      <th>text_stemmed_tokens</th>\n",
       "    </tr>\n",
       "  </thead>\n",
       "  <tbody>\n",
       "    <tr>\n",
       "      <th>0</th>\n",
       "      <td>[unknown]</td>\n",
       "      <td>[unknown]</td>\n",
       "      <td>[deed, reason, #, earthquak, may, allah, forgi...</td>\n",
       "    </tr>\n",
       "    <tr>\n",
       "      <th>1</th>\n",
       "      <td>[unknown]</td>\n",
       "      <td>[unknown]</td>\n",
       "      <td>[forest, fire, near, la, rong, sask, ., canada]</td>\n",
       "    </tr>\n",
       "    <tr>\n",
       "      <th>2</th>\n",
       "      <td>[unknown]</td>\n",
       "      <td>[unknown]</td>\n",
       "      <td>[resid, ask, 'shelter, place, ', notifi, offic...</td>\n",
       "    </tr>\n",
       "    <tr>\n",
       "      <th>3</th>\n",
       "      <td>[unknown]</td>\n",
       "      <td>[unknown]</td>\n",
       "      <td>[13,000, peopl, receiv, #, wildfir, evacu, ord...</td>\n",
       "    </tr>\n",
       "    <tr>\n",
       "      <th>4</th>\n",
       "      <td>[unknown]</td>\n",
       "      <td>[unknown]</td>\n",
       "      <td>[got, sent, photo, rubi, #, alaska, smoke, #, ...</td>\n",
       "    </tr>\n",
       "    <tr>\n",
       "      <th>...</th>\n",
       "      <td>...</td>\n",
       "      <td>...</td>\n",
       "      <td>...</td>\n",
       "    </tr>\n",
       "    <tr>\n",
       "      <th>7608</th>\n",
       "      <td>[unknown]</td>\n",
       "      <td>[unknown]</td>\n",
       "      <td>[two, giant, crane, hold, bridg, collaps, near...</td>\n",
       "    </tr>\n",
       "    <tr>\n",
       "      <th>7609</th>\n",
       "      <td>[unknown]</td>\n",
       "      <td>[unknown]</td>\n",
       "      <td>[@, aria_ahrari, @, thetawniest, control, wild...</td>\n",
       "    </tr>\n",
       "    <tr>\n",
       "      <th>7610</th>\n",
       "      <td>[unknown]</td>\n",
       "      <td>[unknown]</td>\n",
       "      <td>[m1.94, [, 01:04, utc, ], ?, 5km, volcano, haw...</td>\n",
       "    </tr>\n",
       "    <tr>\n",
       "      <th>7611</th>\n",
       "      <td>[unknown]</td>\n",
       "      <td>[unknown]</td>\n",
       "      <td>[polic, investig, e-bik, collid, car, littl, p...</td>\n",
       "    </tr>\n",
       "    <tr>\n",
       "      <th>7612</th>\n",
       "      <td>[unknown]</td>\n",
       "      <td>[unknown]</td>\n",
       "      <td>[latest, :, home, raze, northern, california, ...</td>\n",
       "    </tr>\n",
       "  </tbody>\n",
       "</table>\n",
       "<p>7613 rows × 3 columns</p>\n",
       "</div>"
      ],
      "text/plain": [
       "     keyword_stemmed_tokens location_stemmed_tokens  \\\n",
       "0                 [unknown]               [unknown]   \n",
       "1                 [unknown]               [unknown]   \n",
       "2                 [unknown]               [unknown]   \n",
       "3                 [unknown]               [unknown]   \n",
       "4                 [unknown]               [unknown]   \n",
       "...                     ...                     ...   \n",
       "7608              [unknown]               [unknown]   \n",
       "7609              [unknown]               [unknown]   \n",
       "7610              [unknown]               [unknown]   \n",
       "7611              [unknown]               [unknown]   \n",
       "7612              [unknown]               [unknown]   \n",
       "\n",
       "                                    text_stemmed_tokens  \n",
       "0     [deed, reason, #, earthquak, may, allah, forgi...  \n",
       "1       [forest, fire, near, la, rong, sask, ., canada]  \n",
       "2     [resid, ask, 'shelter, place, ', notifi, offic...  \n",
       "3     [13,000, peopl, receiv, #, wildfir, evacu, ord...  \n",
       "4     [got, sent, photo, rubi, #, alaska, smoke, #, ...  \n",
       "...                                                 ...  \n",
       "7608  [two, giant, crane, hold, bridg, collaps, near...  \n",
       "7609  [@, aria_ahrari, @, thetawniest, control, wild...  \n",
       "7610  [m1.94, [, 01:04, utc, ], ?, 5km, volcano, haw...  \n",
       "7611  [polic, investig, e-bik, collid, car, littl, p...  \n",
       "7612  [latest, :, home, raze, northern, california, ...  \n",
       "\n",
       "[7613 rows x 3 columns]"
      ]
     },
     "execution_count": 14,
     "metadata": {},
     "output_type": "execute_result"
    }
   ],
   "source": [
    "proccessed"
   ]
  },
  {
   "cell_type": "code",
   "execution_count": 15,
   "id": "d1469bab",
   "metadata": {},
   "outputs": [],
   "source": [
    "#embed the words \n",
    "from gensim.models import Word2Vec"
   ]
  },
  {
   "cell_type": "code",
   "execution_count": 16,
   "id": "3da27774",
   "metadata": {},
   "outputs": [],
   "source": [
    "all_col = proccessed['keyword_stemmed_tokens'] + proccessed['location_stemmed_tokens'] + proccessed['text_stemmed_tokens']"
   ]
  },
  {
   "cell_type": "code",
   "execution_count": 17,
   "id": "0583088f",
   "metadata": {},
   "outputs": [
    {
     "data": {
      "text/plain": [
       "0       [unknown, unknown, deed, reason, #, earthquak,...\n",
       "1       [unknown, unknown, forest, fire, near, la, ron...\n",
       "2       [unknown, unknown, resid, ask, 'shelter, place...\n",
       "3       [unknown, unknown, 13,000, peopl, receiv, #, w...\n",
       "4       [unknown, unknown, got, sent, photo, rubi, #, ...\n",
       "                              ...                        \n",
       "7608    [unknown, unknown, two, giant, crane, hold, br...\n",
       "7609    [unknown, unknown, @, aria_ahrari, @, thetawni...\n",
       "7610    [unknown, unknown, m1.94, [, 01:04, utc, ], ?,...\n",
       "7611    [unknown, unknown, polic, investig, e-bik, col...\n",
       "7612    [unknown, unknown, latest, :, home, raze, nort...\n",
       "Length: 7613, dtype: object"
      ]
     },
     "execution_count": 17,
     "metadata": {},
     "output_type": "execute_result"
    }
   ],
   "source": [
    "all_col"
   ]
  },
  {
   "cell_type": "code",
   "execution_count": 18,
   "id": "7038f552",
   "metadata": {},
   "outputs": [],
   "source": [
    "model = Word2Vec(sentences=all_col, vector_size=100, window=5, min_count=1, workers=4)"
   ]
  },
  {
   "cell_type": "code",
   "execution_count": 19,
   "id": "bca821c4",
   "metadata": {},
   "outputs": [
    {
     "data": {
      "text/plain": [
       "array([ 2.47557182e-06,  1.76505372e-02, -2.16839882e-03, -6.75774366e-03,\n",
       "        2.85740150e-03, -6.78690895e-03,  5.62071754e-03,  3.43129560e-02,\n",
       "       -1.15477424e-02, -1.10460659e-02, -8.51091091e-03, -2.39044195e-03,\n",
       "       -1.38949435e-02,  3.86060588e-03, -3.98812495e-04,  3.86194792e-03,\n",
       "        2.55249511e-03,  4.07037465e-03, -1.09889545e-02, -2.23341510e-02,\n",
       "       -4.45573125e-03, -2.26301583e-03,  1.21171623e-02, -9.90091590e-04,\n",
       "        2.01730966e-03,  1.14563415e-02, -6.78610289e-04, -7.36024231e-04,\n",
       "        3.49773630e-03,  7.75012793e-03,  1.60378329e-02, -7.90735893e-03,\n",
       "       -1.36914337e-03, -1.35549661e-02,  6.61474839e-03,  5.41062793e-03,\n",
       "       -4.13602171e-03, -1.64687335e-02,  4.82442789e-03, -1.24176815e-02,\n",
       "        1.08517734e-02,  5.15158521e-03, -4.45504033e-04, -4.61877836e-03,\n",
       "        3.39144026e-03, -5.99455182e-03, -9.00439639e-03,  1.28771074e-03,\n",
       "        9.56777856e-03,  6.36564568e-03, -2.93534552e-03, -5.41444309e-03,\n",
       "       -1.87337827e-02,  6.32391544e-03, -7.86980893e-03,  6.74543809e-03,\n",
       "        1.15533797e-02, -2.84656719e-03, -1.02905242e-03, -5.37553057e-03,\n",
       "        4.69731074e-03,  8.52978881e-03,  1.27583006e-02, -9.26326960e-03,\n",
       "       -1.20731408e-03,  1.07129263e-02, -2.51317164e-03,  5.26312273e-03,\n",
       "       -1.84749032e-03, -6.17616065e-03, -1.38934944e-02,  7.43284868e-03,\n",
       "        1.17575200e-02,  2.73903040e-03, -5.95319876e-03,  3.98439495e-03,\n",
       "        1.11351896e-03,  7.33286422e-03, -1.90308527e-03,  1.00674778e-02,\n",
       "       -4.38572140e-03,  1.77888025e-04,  9.69952345e-03,  1.03487400e-02,\n",
       "       -2.91659147e-03, -3.05853726e-04,  1.34325633e-02,  1.33867655e-02,\n",
       "        1.01807639e-02,  7.07889860e-03,  9.38123092e-03, -1.29543769e-04,\n",
       "       -2.13790615e-03, -4.52128192e-03,  8.43957812e-03, -1.34137133e-02,\n",
       "       -3.99307755e-04,  2.46291049e-03, -1.22820018e-02,  4.73048858e-05],\n",
       "      dtype=float32)"
      ]
     },
     "execution_count": 19,
     "metadata": {},
     "output_type": "execute_result"
    }
   ],
   "source": [
    "word = 'deed'\n",
    "model.wv[word]"
   ]
  },
  {
   "cell_type": "code",
   "execution_count": 20,
   "id": "45b80d4e",
   "metadata": {},
   "outputs": [
    {
     "data": {
      "text/plain": [
       "[('motorcraft', 0.8195559978485107),\n",
       " ('deem', 0.8125638961791992),\n",
       " ('minecraft', 0.8115735054016113),\n",
       " ('//t.co/qv7iydovx9', 0.8055250644683838),\n",
       " ('reuter', 0.8025164008140564),\n",
       " ('via', 0.8011668920516968),\n",
       " ('abc', 0.7991371750831604),\n",
       " ('linkuri', 0.7987039089202881),\n",
       " ('outlook', 0.7978792786598206),\n",
       " ('video', 0.7978500723838806)]"
      ]
     },
     "execution_count": 20,
     "metadata": {},
     "output_type": "execute_result"
    }
   ],
   "source": [
    "model.wv.most_similar(word)"
   ]
  },
  {
   "cell_type": "code",
   "execution_count": 21,
   "id": "eb3ba0fa",
   "metadata": {},
   "outputs": [],
   "source": [
    "import torch\n",
    "import torch.nn as nn\n",
    "import numpy as np\n",
    "\n",
    "#create an embedding from the vectorization of the inputs\n",
    "# Convert tokenized text to sequences of word indices\n",
    "word_inds = {word: idx for idx, word in enumerate(model.wv.index_to_key)}\n",
    "sequences = [[word_inds[word] for word in sentence] for sentence in all_col]\n",
    "\n",
    "# Pad sequences to so that all the lists have equal lengths\n",
    "max_len = max(len(seq) for seq in sequences)\n",
    "padded_sequences = [seq + [0] * (max_len - len(seq)) for seq in sequences]\n",
    "\n",
    "#convert the data to pytorch tensor for the model\n",
    "padded_tensor = torch.LongTensor(padded_sequences)\n",
    "\n",
    "\n",
    "# Create the embedding matrix \n",
    "embedding_matrix = np.zeros((len(model.wv.key_to_index) + 1, model.vector_size))\n",
    "for word, i in word_inds.items():\n",
    "    embedding_matrix[i] = model.wv[word]"
   ]
  },
  {
   "cell_type": "code",
   "execution_count": 22,
   "id": "de737951",
   "metadata": {},
   "outputs": [
    {
     "data": {
      "text/plain": [
       "array([[ 4.69027281e-01,  2.12679076e+00,  1.83595672e-01, ...,\n",
       "        -7.38170087e-01, -1.22161877e+00,  6.16296351e-01],\n",
       "       [ 1.33313149e-01,  2.19503736e+00,  5.79904258e-01, ...,\n",
       "        -7.28635669e-01, -1.67469549e+00,  6.14692748e-01],\n",
       "       [ 2.62071609e-01,  1.94950092e+00, -1.19417322e+00, ...,\n",
       "        -6.98552430e-01,  2.70102948e-01, -3.68768096e-01],\n",
       "       ...,\n",
       "       [ 3.55303055e-03,  1.34408502e-02,  2.45242706e-03, ...,\n",
       "        -1.38449157e-02, -5.43553382e-03,  1.29230390e-03],\n",
       "       [ 9.61621944e-03,  3.85184027e-03,  8.42505973e-03, ...,\n",
       "        -6.92928210e-03, -2.23572669e-03, -1.61305547e-03],\n",
       "       [ 0.00000000e+00,  0.00000000e+00,  0.00000000e+00, ...,\n",
       "         0.00000000e+00,  0.00000000e+00,  0.00000000e+00]])"
      ]
     },
     "execution_count": 22,
     "metadata": {},
     "output_type": "execute_result"
    }
   ],
   "source": [
    "embedding_matrix"
   ]
  },
  {
   "cell_type": "code",
   "execution_count": 23,
   "id": "4f59f806",
   "metadata": {},
   "outputs": [
    {
     "data": {
      "text/plain": [
       "(21915, 100)"
      ]
     },
     "execution_count": 23,
     "metadata": {},
     "output_type": "execute_result"
    }
   ],
   "source": [
    "np.shape(embedding_matrix)"
   ]
  },
  {
   "cell_type": "code",
   "execution_count": 49,
   "id": "dbbf69ee",
   "metadata": {},
   "outputs": [],
   "source": [
    "import torch.nn.functional as F\n",
    "\n",
    "# Create an LSTM Model for sentiment analysis.\n",
    "#Transformers is the usual meta model for NLP, but trying out different methods \n",
    "#using kaggle data seems interesting and also a better way of improving.\n",
    "class LSTMModel(nn.Module):\n",
    "    def __init__(self, embedding_matrix, hidden_size):\n",
    "        super(LSTMModel, self).__init__()\n",
    "        self.embedding = nn.Embedding.from_pretrained(torch.FloatTensor(embedding_matrix), padding_idx=0)\n",
    "        self.lstm = nn.LSTM(input_size=embedding_matrix.shape[1], hidden_size=hidden_size, batch_first=True)\n",
    "        self.fc = nn.Linear(hidden_size, 1) #binary classification output\n",
    "\n",
    "    def forward(self, x):\n",
    "        embedded = self.embedding(x)\n",
    "        out, _ = self.lstm(embedded)\n",
    "        out = self.fc(out[:, -1, :])\n",
    "        out = F.softmax(out, dim = 1)\n",
    "        return out"
   ]
  },
  {
   "cell_type": "code",
   "execution_count": 25,
   "id": "b561a475",
   "metadata": {},
   "outputs": [],
   "source": [
    "test.drop(columns = 'id', inplace = True)"
   ]
  },
  {
   "cell_type": "code",
   "execution_count": 26,
   "id": "afe0790c",
   "metadata": {},
   "outputs": [
    {
     "data": {
      "text/html": [
       "<div>\n",
       "<style scoped>\n",
       "    .dataframe tbody tr th:only-of-type {\n",
       "        vertical-align: middle;\n",
       "    }\n",
       "\n",
       "    .dataframe tbody tr th {\n",
       "        vertical-align: top;\n",
       "    }\n",
       "\n",
       "    .dataframe thead th {\n",
       "        text-align: right;\n",
       "    }\n",
       "</style>\n",
       "<table border=\"1\" class=\"dataframe\">\n",
       "  <thead>\n",
       "    <tr style=\"text-align: right;\">\n",
       "      <th></th>\n",
       "      <th>keyword</th>\n",
       "      <th>location</th>\n",
       "      <th>text</th>\n",
       "    </tr>\n",
       "  </thead>\n",
       "  <tbody>\n",
       "    <tr>\n",
       "      <th>0</th>\n",
       "      <td>NaN</td>\n",
       "      <td>NaN</td>\n",
       "      <td>Just happened a terrible car crash</td>\n",
       "    </tr>\n",
       "    <tr>\n",
       "      <th>1</th>\n",
       "      <td>NaN</td>\n",
       "      <td>NaN</td>\n",
       "      <td>Heard about #earthquake is different cities, s...</td>\n",
       "    </tr>\n",
       "    <tr>\n",
       "      <th>2</th>\n",
       "      <td>NaN</td>\n",
       "      <td>NaN</td>\n",
       "      <td>there is a forest fire at spot pond, geese are...</td>\n",
       "    </tr>\n",
       "    <tr>\n",
       "      <th>3</th>\n",
       "      <td>NaN</td>\n",
       "      <td>NaN</td>\n",
       "      <td>Apocalypse lighting. #Spokane #wildfires</td>\n",
       "    </tr>\n",
       "    <tr>\n",
       "      <th>4</th>\n",
       "      <td>NaN</td>\n",
       "      <td>NaN</td>\n",
       "      <td>Typhoon Soudelor kills 28 in China and Taiwan</td>\n",
       "    </tr>\n",
       "    <tr>\n",
       "      <th>...</th>\n",
       "      <td>...</td>\n",
       "      <td>...</td>\n",
       "      <td>...</td>\n",
       "    </tr>\n",
       "    <tr>\n",
       "      <th>3258</th>\n",
       "      <td>NaN</td>\n",
       "      <td>NaN</td>\n",
       "      <td>EARTHQUAKE SAFETY LOS ANGELES ÛÒ SAFETY FASTE...</td>\n",
       "    </tr>\n",
       "    <tr>\n",
       "      <th>3259</th>\n",
       "      <td>NaN</td>\n",
       "      <td>NaN</td>\n",
       "      <td>Storm in RI worse than last hurricane. My city...</td>\n",
       "    </tr>\n",
       "    <tr>\n",
       "      <th>3260</th>\n",
       "      <td>NaN</td>\n",
       "      <td>NaN</td>\n",
       "      <td>Green Line derailment in Chicago http://t.co/U...</td>\n",
       "    </tr>\n",
       "    <tr>\n",
       "      <th>3261</th>\n",
       "      <td>NaN</td>\n",
       "      <td>NaN</td>\n",
       "      <td>MEG issues Hazardous Weather Outlook (HWO) htt...</td>\n",
       "    </tr>\n",
       "    <tr>\n",
       "      <th>3262</th>\n",
       "      <td>NaN</td>\n",
       "      <td>NaN</td>\n",
       "      <td>#CityofCalgary has activated its Municipal Eme...</td>\n",
       "    </tr>\n",
       "  </tbody>\n",
       "</table>\n",
       "<p>3263 rows × 3 columns</p>\n",
       "</div>"
      ],
      "text/plain": [
       "     keyword location                                               text\n",
       "0        NaN      NaN                 Just happened a terrible car crash\n",
       "1        NaN      NaN  Heard about #earthquake is different cities, s...\n",
       "2        NaN      NaN  there is a forest fire at spot pond, geese are...\n",
       "3        NaN      NaN           Apocalypse lighting. #Spokane #wildfires\n",
       "4        NaN      NaN      Typhoon Soudelor kills 28 in China and Taiwan\n",
       "...      ...      ...                                                ...\n",
       "3258     NaN      NaN  EARTHQUAKE SAFETY LOS ANGELES ÛÒ SAFETY FASTE...\n",
       "3259     NaN      NaN  Storm in RI worse than last hurricane. My city...\n",
       "3260     NaN      NaN  Green Line derailment in Chicago http://t.co/U...\n",
       "3261     NaN      NaN  MEG issues Hazardous Weather Outlook (HWO) htt...\n",
       "3262     NaN      NaN  #CityofCalgary has activated its Municipal Eme...\n",
       "\n",
       "[3263 rows x 3 columns]"
      ]
     },
     "execution_count": 26,
     "metadata": {},
     "output_type": "execute_result"
    }
   ],
   "source": [
    "test"
   ]
  },
  {
   "cell_type": "code",
   "execution_count": 27,
   "id": "504ba976",
   "metadata": {},
   "outputs": [],
   "source": [
    "test_process = PreProcess(test)"
   ]
  },
  {
   "cell_type": "code",
   "execution_count": 28,
   "id": "3ad6a1a0",
   "metadata": {},
   "outputs": [
    {
     "data": {
      "text/html": [
       "<div>\n",
       "<style scoped>\n",
       "    .dataframe tbody tr th:only-of-type {\n",
       "        vertical-align: middle;\n",
       "    }\n",
       "\n",
       "    .dataframe tbody tr th {\n",
       "        vertical-align: top;\n",
       "    }\n",
       "\n",
       "    .dataframe thead th {\n",
       "        text-align: right;\n",
       "    }\n",
       "</style>\n",
       "<table border=\"1\" class=\"dataframe\">\n",
       "  <thead>\n",
       "    <tr style=\"text-align: right;\">\n",
       "      <th></th>\n",
       "      <th>keyword_stemmed_tokens</th>\n",
       "      <th>location_stemmed_tokens</th>\n",
       "      <th>text_stemmed_tokens</th>\n",
       "    </tr>\n",
       "  </thead>\n",
       "  <tbody>\n",
       "    <tr>\n",
       "      <th>0</th>\n",
       "      <td>[unknown]</td>\n",
       "      <td>[unknown]</td>\n",
       "      <td>[happen, terribl, car, crash]</td>\n",
       "    </tr>\n",
       "    <tr>\n",
       "      <th>1</th>\n",
       "      <td>[unknown]</td>\n",
       "      <td>[unknown]</td>\n",
       "      <td>[heard, #, earthquak, differ, citi, ,, stay, s...</td>\n",
       "    </tr>\n",
       "    <tr>\n",
       "      <th>2</th>\n",
       "      <td>[unknown]</td>\n",
       "      <td>[unknown]</td>\n",
       "      <td>[forest, fire, spot, pond, ,, gees, flee, acro...</td>\n",
       "    </tr>\n",
       "    <tr>\n",
       "      <th>3</th>\n",
       "      <td>[unknown]</td>\n",
       "      <td>[unknown]</td>\n",
       "      <td>[apocalyps, light, ., #, spokan, #, wildfir]</td>\n",
       "    </tr>\n",
       "    <tr>\n",
       "      <th>4</th>\n",
       "      <td>[unknown]</td>\n",
       "      <td>[unknown]</td>\n",
       "      <td>[typhoon, soudelor, kill, 28, china, taiwan]</td>\n",
       "    </tr>\n",
       "    <tr>\n",
       "      <th>...</th>\n",
       "      <td>...</td>\n",
       "      <td>...</td>\n",
       "      <td>...</td>\n",
       "    </tr>\n",
       "    <tr>\n",
       "      <th>3258</th>\n",
       "      <td>[unknown]</td>\n",
       "      <td>[unknown]</td>\n",
       "      <td>[earthquak, safeti, lo, angel, ûò, safeti, fa...</td>\n",
       "    </tr>\n",
       "    <tr>\n",
       "      <th>3259</th>\n",
       "      <td>[unknown]</td>\n",
       "      <td>[unknown]</td>\n",
       "      <td>[storm, ri, wors, last, hurrican, ., citi, &amp;, ...</td>\n",
       "    </tr>\n",
       "    <tr>\n",
       "      <th>3260</th>\n",
       "      <td>[unknown]</td>\n",
       "      <td>[unknown]</td>\n",
       "      <td>[green, line, derail, chicago, http, :, //t.co...</td>\n",
       "    </tr>\n",
       "    <tr>\n",
       "      <th>3261</th>\n",
       "      <td>[unknown]</td>\n",
       "      <td>[unknown]</td>\n",
       "      <td>[meg, issu, hazard, weather, outlook, (, hwo, ...</td>\n",
       "    </tr>\n",
       "    <tr>\n",
       "      <th>3262</th>\n",
       "      <td>[unknown]</td>\n",
       "      <td>[unknown]</td>\n",
       "      <td>[#, cityofcalgari, activ, municip, emerg, plan...</td>\n",
       "    </tr>\n",
       "  </tbody>\n",
       "</table>\n",
       "<p>3263 rows × 3 columns</p>\n",
       "</div>"
      ],
      "text/plain": [
       "     keyword_stemmed_tokens location_stemmed_tokens  \\\n",
       "0                 [unknown]               [unknown]   \n",
       "1                 [unknown]               [unknown]   \n",
       "2                 [unknown]               [unknown]   \n",
       "3                 [unknown]               [unknown]   \n",
       "4                 [unknown]               [unknown]   \n",
       "...                     ...                     ...   \n",
       "3258              [unknown]               [unknown]   \n",
       "3259              [unknown]               [unknown]   \n",
       "3260              [unknown]               [unknown]   \n",
       "3261              [unknown]               [unknown]   \n",
       "3262              [unknown]               [unknown]   \n",
       "\n",
       "                                    text_stemmed_tokens  \n",
       "0                         [happen, terribl, car, crash]  \n",
       "1     [heard, #, earthquak, differ, citi, ,, stay, s...  \n",
       "2     [forest, fire, spot, pond, ,, gees, flee, acro...  \n",
       "3          [apocalyps, light, ., #, spokan, #, wildfir]  \n",
       "4          [typhoon, soudelor, kill, 28, china, taiwan]  \n",
       "...                                                 ...  \n",
       "3258  [earthquak, safeti, lo, angel, ûò, safeti, fa...  \n",
       "3259  [storm, ri, wors, last, hurrican, ., citi, &, ...  \n",
       "3260  [green, line, derail, chicago, http, :, //t.co...  \n",
       "3261  [meg, issu, hazard, weather, outlook, (, hwo, ...  \n",
       "3262  [#, cityofcalgari, activ, municip, emerg, plan...  \n",
       "\n",
       "[3263 rows x 3 columns]"
      ]
     },
     "execution_count": 28,
     "metadata": {},
     "output_type": "execute_result"
    }
   ],
   "source": [
    "test_process"
   ]
  },
  {
   "cell_type": "code",
   "execution_count": 29,
   "id": "85541664",
   "metadata": {},
   "outputs": [
    {
     "data": {
      "text/plain": [
       "0    4342\n",
       "1    3271\n",
       "Name: target, dtype: int64"
      ]
     },
     "execution_count": 29,
     "metadata": {},
     "output_type": "execute_result"
    }
   ],
   "source": [
    "target.value_counts()"
   ]
  },
  {
   "cell_type": "code",
   "execution_count": 56,
   "id": "cdfcb8bf",
   "metadata": {},
   "outputs": [
    {
     "data": {
      "text/plain": [
       "tensor([1., 1., 1.,  ..., 1., 1., 1.])"
      ]
     },
     "execution_count": 56,
     "metadata": {},
     "output_type": "execute_result"
    }
   ],
   "source": [
    "#convert the target into a pytorch tensor after converting to categorical \n",
    "\n",
    "target_tensor = torch.FloatTensor(target)\n",
    "target_tensor"
   ]
  },
  {
   "cell_type": "code",
   "execution_count": 53,
   "id": "c17c6197",
   "metadata": {},
   "outputs": [],
   "source": [
    "#instantiate the model\n",
    "model = LSTMModel(embedding_matrix, hidden_size = 64)"
   ]
  },
  {
   "cell_type": "code",
   "execution_count": 58,
   "id": "8513e77b",
   "metadata": {},
   "outputs": [
    {
     "name": "stdout",
     "output_type": "stream",
     "text": [
      "Epoch 1/100, Loss: 0.8836020827293396\n",
      "Epoch 2/100, Loss: 0.8836020827293396\n",
      "Epoch 3/100, Loss: 0.8836020827293396\n",
      "Epoch 4/100, Loss: 0.8836020827293396\n",
      "Epoch 5/100, Loss: 0.8836020827293396\n",
      "Epoch 6/100, Loss: 0.8836020827293396\n",
      "Epoch 7/100, Loss: 0.8836020827293396\n",
      "Epoch 8/100, Loss: 0.8836020827293396\n",
      "Epoch 9/100, Loss: 0.8836020827293396\n",
      "Epoch 10/100, Loss: 0.8836020827293396\n",
      "Epoch 11/100, Loss: 0.8836020827293396\n",
      "Epoch 12/100, Loss: 0.8836020827293396\n",
      "Epoch 13/100, Loss: 0.8836020827293396\n",
      "Epoch 14/100, Loss: 0.8836020827293396\n",
      "Epoch 15/100, Loss: 0.8836020827293396\n",
      "Epoch 16/100, Loss: 0.8836020827293396\n",
      "Epoch 17/100, Loss: 0.8836020827293396\n",
      "Epoch 18/100, Loss: 0.8836020827293396\n",
      "Epoch 19/100, Loss: 0.8836020827293396\n",
      "Epoch 20/100, Loss: 0.8836020827293396\n",
      "Epoch 21/100, Loss: 0.8836020827293396\n",
      "Epoch 22/100, Loss: 0.8836020827293396\n",
      "Epoch 23/100, Loss: 0.8836020827293396\n",
      "Epoch 24/100, Loss: 0.8836020827293396\n",
      "Epoch 25/100, Loss: 0.8836020827293396\n",
      "Epoch 26/100, Loss: 0.8836020827293396\n",
      "Epoch 27/100, Loss: 0.8836020827293396\n",
      "Epoch 28/100, Loss: 0.8836020827293396\n",
      "Epoch 29/100, Loss: 0.8836020827293396\n"
     ]
    },
    {
     "ename": "KeyboardInterrupt",
     "evalue": "",
     "output_type": "error",
     "traceback": [
      "\u001b[1;31m---------------------------------------------------------------------------\u001b[0m",
      "\u001b[1;31mKeyboardInterrupt\u001b[0m                         Traceback (most recent call last)",
      "Cell \u001b[1;32mIn[58], line 11\u001b[0m\n\u001b[0;32m      9\u001b[0m model\u001b[38;5;241m.\u001b[39mtrain()\n\u001b[0;32m     10\u001b[0m optimizer\u001b[38;5;241m.\u001b[39mzero_grad()\n\u001b[1;32m---> 11\u001b[0m outputs \u001b[38;5;241m=\u001b[39m \u001b[43mmodel\u001b[49m\u001b[43m(\u001b[49m\u001b[43mpadded_tensor\u001b[49m\u001b[43m)\u001b[49m\n\u001b[0;32m     12\u001b[0m loss \u001b[38;5;241m=\u001b[39m criterion(outputs\u001b[38;5;241m.\u001b[39msqueeze(), target_tensor)\n\u001b[0;32m     13\u001b[0m loss\u001b[38;5;241m.\u001b[39mbackward()\n",
      "File \u001b[1;32m~\\Anaconda3\\lib\\site-packages\\torch\\nn\\modules\\module.py:1130\u001b[0m, in \u001b[0;36mModule._call_impl\u001b[1;34m(self, *input, **kwargs)\u001b[0m\n\u001b[0;32m   1126\u001b[0m \u001b[38;5;66;03m# If we don't have any hooks, we want to skip the rest of the logic in\u001b[39;00m\n\u001b[0;32m   1127\u001b[0m \u001b[38;5;66;03m# this function, and just call forward.\u001b[39;00m\n\u001b[0;32m   1128\u001b[0m \u001b[38;5;28;01mif\u001b[39;00m \u001b[38;5;129;01mnot\u001b[39;00m (\u001b[38;5;28mself\u001b[39m\u001b[38;5;241m.\u001b[39m_backward_hooks \u001b[38;5;129;01mor\u001b[39;00m \u001b[38;5;28mself\u001b[39m\u001b[38;5;241m.\u001b[39m_forward_hooks \u001b[38;5;129;01mor\u001b[39;00m \u001b[38;5;28mself\u001b[39m\u001b[38;5;241m.\u001b[39m_forward_pre_hooks \u001b[38;5;129;01mor\u001b[39;00m _global_backward_hooks\n\u001b[0;32m   1129\u001b[0m         \u001b[38;5;129;01mor\u001b[39;00m _global_forward_hooks \u001b[38;5;129;01mor\u001b[39;00m _global_forward_pre_hooks):\n\u001b[1;32m-> 1130\u001b[0m     \u001b[38;5;28;01mreturn\u001b[39;00m \u001b[43mforward_call\u001b[49m\u001b[43m(\u001b[49m\u001b[38;5;241;43m*\u001b[39;49m\u001b[38;5;28;43minput\u001b[39;49m\u001b[43m,\u001b[49m\u001b[43m \u001b[49m\u001b[38;5;241;43m*\u001b[39;49m\u001b[38;5;241;43m*\u001b[39;49m\u001b[43mkwargs\u001b[49m\u001b[43m)\u001b[49m\n\u001b[0;32m   1131\u001b[0m \u001b[38;5;66;03m# Do not call functions when jit is used\u001b[39;00m\n\u001b[0;32m   1132\u001b[0m full_backward_hooks, non_full_backward_hooks \u001b[38;5;241m=\u001b[39m [], []\n",
      "Cell \u001b[1;32mIn[49], line 15\u001b[0m, in \u001b[0;36mLSTMModel.forward\u001b[1;34m(self, x)\u001b[0m\n\u001b[0;32m     13\u001b[0m \u001b[38;5;28;01mdef\u001b[39;00m \u001b[38;5;21mforward\u001b[39m(\u001b[38;5;28mself\u001b[39m, x):\n\u001b[0;32m     14\u001b[0m     embedded \u001b[38;5;241m=\u001b[39m \u001b[38;5;28mself\u001b[39m\u001b[38;5;241m.\u001b[39membedding(x)\n\u001b[1;32m---> 15\u001b[0m     out, _ \u001b[38;5;241m=\u001b[39m \u001b[38;5;28;43mself\u001b[39;49m\u001b[38;5;241;43m.\u001b[39;49m\u001b[43mlstm\u001b[49m\u001b[43m(\u001b[49m\u001b[43membedded\u001b[49m\u001b[43m)\u001b[49m\n\u001b[0;32m     16\u001b[0m     out \u001b[38;5;241m=\u001b[39m \u001b[38;5;28mself\u001b[39m\u001b[38;5;241m.\u001b[39mfc(out[:, \u001b[38;5;241m-\u001b[39m\u001b[38;5;241m1\u001b[39m, :])\n\u001b[0;32m     17\u001b[0m     out \u001b[38;5;241m=\u001b[39m F\u001b[38;5;241m.\u001b[39msoftmax(out, dim \u001b[38;5;241m=\u001b[39m \u001b[38;5;241m1\u001b[39m)\n",
      "File \u001b[1;32m~\\Anaconda3\\lib\\site-packages\\torch\\nn\\modules\\module.py:1130\u001b[0m, in \u001b[0;36mModule._call_impl\u001b[1;34m(self, *input, **kwargs)\u001b[0m\n\u001b[0;32m   1126\u001b[0m \u001b[38;5;66;03m# If we don't have any hooks, we want to skip the rest of the logic in\u001b[39;00m\n\u001b[0;32m   1127\u001b[0m \u001b[38;5;66;03m# this function, and just call forward.\u001b[39;00m\n\u001b[0;32m   1128\u001b[0m \u001b[38;5;28;01mif\u001b[39;00m \u001b[38;5;129;01mnot\u001b[39;00m (\u001b[38;5;28mself\u001b[39m\u001b[38;5;241m.\u001b[39m_backward_hooks \u001b[38;5;129;01mor\u001b[39;00m \u001b[38;5;28mself\u001b[39m\u001b[38;5;241m.\u001b[39m_forward_hooks \u001b[38;5;129;01mor\u001b[39;00m \u001b[38;5;28mself\u001b[39m\u001b[38;5;241m.\u001b[39m_forward_pre_hooks \u001b[38;5;129;01mor\u001b[39;00m _global_backward_hooks\n\u001b[0;32m   1129\u001b[0m         \u001b[38;5;129;01mor\u001b[39;00m _global_forward_hooks \u001b[38;5;129;01mor\u001b[39;00m _global_forward_pre_hooks):\n\u001b[1;32m-> 1130\u001b[0m     \u001b[38;5;28;01mreturn\u001b[39;00m \u001b[43mforward_call\u001b[49m\u001b[43m(\u001b[49m\u001b[38;5;241;43m*\u001b[39;49m\u001b[38;5;28;43minput\u001b[39;49m\u001b[43m,\u001b[49m\u001b[43m \u001b[49m\u001b[38;5;241;43m*\u001b[39;49m\u001b[38;5;241;43m*\u001b[39;49m\u001b[43mkwargs\u001b[49m\u001b[43m)\u001b[49m\n\u001b[0;32m   1131\u001b[0m \u001b[38;5;66;03m# Do not call functions when jit is used\u001b[39;00m\n\u001b[0;32m   1132\u001b[0m full_backward_hooks, non_full_backward_hooks \u001b[38;5;241m=\u001b[39m [], []\n",
      "File \u001b[1;32m~\\Anaconda3\\lib\\site-packages\\torch\\nn\\modules\\rnn.py:769\u001b[0m, in \u001b[0;36mLSTM.forward\u001b[1;34m(self, input, hx)\u001b[0m\n\u001b[0;32m    767\u001b[0m \u001b[38;5;28mself\u001b[39m\u001b[38;5;241m.\u001b[39mcheck_forward_args(\u001b[38;5;28minput\u001b[39m, hx, batch_sizes)\n\u001b[0;32m    768\u001b[0m \u001b[38;5;28;01mif\u001b[39;00m batch_sizes \u001b[38;5;129;01mis\u001b[39;00m \u001b[38;5;28;01mNone\u001b[39;00m:\n\u001b[1;32m--> 769\u001b[0m     result \u001b[38;5;241m=\u001b[39m \u001b[43m_VF\u001b[49m\u001b[38;5;241;43m.\u001b[39;49m\u001b[43mlstm\u001b[49m\u001b[43m(\u001b[49m\u001b[38;5;28;43minput\u001b[39;49m\u001b[43m,\u001b[49m\u001b[43m \u001b[49m\u001b[43mhx\u001b[49m\u001b[43m,\u001b[49m\u001b[43m \u001b[49m\u001b[38;5;28;43mself\u001b[39;49m\u001b[38;5;241;43m.\u001b[39;49m\u001b[43m_flat_weights\u001b[49m\u001b[43m,\u001b[49m\u001b[43m \u001b[49m\u001b[38;5;28;43mself\u001b[39;49m\u001b[38;5;241;43m.\u001b[39;49m\u001b[43mbias\u001b[49m\u001b[43m,\u001b[49m\u001b[43m \u001b[49m\u001b[38;5;28;43mself\u001b[39;49m\u001b[38;5;241;43m.\u001b[39;49m\u001b[43mnum_layers\u001b[49m\u001b[43m,\u001b[49m\n\u001b[0;32m    770\u001b[0m \u001b[43m                      \u001b[49m\u001b[38;5;28;43mself\u001b[39;49m\u001b[38;5;241;43m.\u001b[39;49m\u001b[43mdropout\u001b[49m\u001b[43m,\u001b[49m\u001b[43m \u001b[49m\u001b[38;5;28;43mself\u001b[39;49m\u001b[38;5;241;43m.\u001b[39;49m\u001b[43mtraining\u001b[49m\u001b[43m,\u001b[49m\u001b[43m \u001b[49m\u001b[38;5;28;43mself\u001b[39;49m\u001b[38;5;241;43m.\u001b[39;49m\u001b[43mbidirectional\u001b[49m\u001b[43m,\u001b[49m\u001b[43m \u001b[49m\u001b[38;5;28;43mself\u001b[39;49m\u001b[38;5;241;43m.\u001b[39;49m\u001b[43mbatch_first\u001b[49m\u001b[43m)\u001b[49m\n\u001b[0;32m    771\u001b[0m \u001b[38;5;28;01melse\u001b[39;00m:\n\u001b[0;32m    772\u001b[0m     result \u001b[38;5;241m=\u001b[39m _VF\u001b[38;5;241m.\u001b[39mlstm(\u001b[38;5;28minput\u001b[39m, batch_sizes, hx, \u001b[38;5;28mself\u001b[39m\u001b[38;5;241m.\u001b[39m_flat_weights, \u001b[38;5;28mself\u001b[39m\u001b[38;5;241m.\u001b[39mbias,\n\u001b[0;32m    773\u001b[0m                       \u001b[38;5;28mself\u001b[39m\u001b[38;5;241m.\u001b[39mnum_layers, \u001b[38;5;28mself\u001b[39m\u001b[38;5;241m.\u001b[39mdropout, \u001b[38;5;28mself\u001b[39m\u001b[38;5;241m.\u001b[39mtraining, \u001b[38;5;28mself\u001b[39m\u001b[38;5;241m.\u001b[39mbidirectional)\n",
      "\u001b[1;31mKeyboardInterrupt\u001b[0m: "
     ]
    }
   ],
   "source": [
    "import torch.optim as optim\n",
    "# Define loss function, optimizer and epoch\n",
    "criterion = nn.BCEWithLogitsLoss()\n",
    "optimizer = optim.Adam(model.parameters(), lr=0.001)\n",
    "num_epochs = 100\n",
    "\n",
    "#train the model \n",
    "for epoch in range(num_epochs):\n",
    "    model.train()\n",
    "    optimizer.zero_grad()\n",
    "    outputs = model(padded_tensor)\n",
    "    loss = criterion(outputs.squeeze(), target_tensor)\n",
    "    loss.backward()\n",
    "    optimizer.step()\n",
    "    print(f\"Epoch {epoch+1}/{num_epochs}, Loss: {loss.item()}\")"
   ]
  },
  {
   "cell_type": "code",
   "execution_count": 45,
   "id": "99dce5f7",
   "metadata": {},
   "outputs": [],
   "source": [
    "target_dum = torch.LongTensor(target)"
   ]
  },
  {
   "cell_type": "code",
   "execution_count": 46,
   "id": "15f8b8b2",
   "metadata": {},
   "outputs": [
    {
     "data": {
      "text/plain": [
       "tensor([1, 1, 1,  ..., 1, 1, 1])"
      ]
     },
     "execution_count": 46,
     "metadata": {},
     "output_type": "execute_result"
    }
   ],
   "source": [
    "target_dum"
   ]
  },
  {
   "cell_type": "code",
   "execution_count": null,
   "id": "35c46fc7",
   "metadata": {},
   "outputs": [],
   "source": []
  }
 ],
 "metadata": {
  "kernelspec": {
   "display_name": "Python 3 (ipykernel)",
   "language": "python",
   "name": "python3"
  },
  "language_info": {
   "codemirror_mode": {
    "name": "ipython",
    "version": 3
   },
   "file_extension": ".py",
   "mimetype": "text/x-python",
   "name": "python",
   "nbconvert_exporter": "python",
   "pygments_lexer": "ipython3",
   "version": "3.8.16"
  }
 },
 "nbformat": 4,
 "nbformat_minor": 5
}
